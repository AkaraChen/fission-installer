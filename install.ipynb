{
 "cells": [
  {
   "cell_type": "markdown",
   "metadata": {},
   "source": [
    "# Install fission\n",
    "\n",
    "With helm, grafana, opentelemetry, prometheus, and jaeger enabled."
   ]
  },
  {
   "cell_type": "markdown",
   "metadata": {},
   "source": [
    "Install cert-manager and open-telemetry operator."
   ]
  },
  {
   "cell_type": "code",
   "execution_count": 1,
   "metadata": {},
   "outputs": [
    {
     "name": "stdout",
     "output_type": "stream",
     "text": [
      "namespace/cert-manager created\n",
      "customresourcedefinition.apiextensions.k8s.io/certificaterequests.cert-manager.io created\n",
      "customresourcedefinition.apiextensions.k8s.io/certificates.cert-manager.io created\n",
      "customresourcedefinition.apiextensions.k8s.io/challenges.acme.cert-manager.io created\n",
      "customresourcedefinition.apiextensions.k8s.io/clusterissuers.cert-manager.io created\n",
      "customresourcedefinition.apiextensions.k8s.io/issuers.cert-manager.io created\n",
      "customresourcedefinition.apiextensions.k8s.io/orders.acme.cert-manager.io created\n",
      "serviceaccount/cert-manager-cainjector created\n",
      "serviceaccount/cert-manager created\n",
      "serviceaccount/cert-manager-webhook created\n",
      "clusterrole.rbac.authorization.k8s.io/cert-manager-cainjector created\n",
      "clusterrole.rbac.authorization.k8s.io/cert-manager-controller-issuers created\n",
      "clusterrole.rbac.authorization.k8s.io/cert-manager-controller-clusterissuers created\n",
      "clusterrole.rbac.authorization.k8s.io/cert-manager-controller-certificates created\n",
      "clusterrole.rbac.authorization.k8s.io/cert-manager-controller-orders created\n",
      "clusterrole.rbac.authorization.k8s.io/cert-manager-controller-challenges created\n",
      "clusterrole.rbac.authorization.k8s.io/cert-manager-controller-ingress-shim created\n",
      "clusterrole.rbac.authorization.k8s.io/cert-manager-cluster-view created\n",
      "clusterrole.rbac.authorization.k8s.io/cert-manager-view created\n",
      "clusterrole.rbac.authorization.k8s.io/cert-manager-edit created\n",
      "clusterrole.rbac.authorization.k8s.io/cert-manager-controller-approve:cert-manager-io created\n",
      "clusterrole.rbac.authorization.k8s.io/cert-manager-controller-certificatesigningrequests created\n",
      "clusterrole.rbac.authorization.k8s.io/cert-manager-webhook:subjectaccessreviews created\n",
      "clusterrolebinding.rbac.authorization.k8s.io/cert-manager-cainjector created\n",
      "clusterrolebinding.rbac.authorization.k8s.io/cert-manager-controller-issuers created\n",
      "clusterrolebinding.rbac.authorization.k8s.io/cert-manager-controller-clusterissuers created\n",
      "clusterrolebinding.rbac.authorization.k8s.io/cert-manager-controller-certificates created\n",
      "clusterrolebinding.rbac.authorization.k8s.io/cert-manager-controller-orders created\n",
      "clusterrolebinding.rbac.authorization.k8s.io/cert-manager-controller-challenges created\n",
      "clusterrolebinding.rbac.authorization.k8s.io/cert-manager-controller-ingress-shim created\n",
      "clusterrolebinding.rbac.authorization.k8s.io/cert-manager-controller-approve:cert-manager-io created\n",
      "clusterrolebinding.rbac.authorization.k8s.io/cert-manager-controller-certificatesigningrequests created\n",
      "clusterrolebinding.rbac.authorization.k8s.io/cert-manager-webhook:subjectaccessreviews created\n",
      "role.rbac.authorization.k8s.io/cert-manager-cainjector:leaderelection created\n",
      "role.rbac.authorization.k8s.io/cert-manager:leaderelection created\n",
      "role.rbac.authorization.k8s.io/cert-manager-webhook:dynamic-serving created\n",
      "rolebinding.rbac.authorization.k8s.io/cert-manager-cainjector:leaderelection created\n",
      "rolebinding.rbac.authorization.k8s.io/cert-manager:leaderelection created\n",
      "rolebinding.rbac.authorization.k8s.io/cert-manager-webhook:dynamic-serving created\n",
      "service/cert-manager created\n",
      "service/cert-manager-webhook created\n",
      "deployment.apps/cert-manager-cainjector created\n",
      "deployment.apps/cert-manager created\n",
      "deployment.apps/cert-manager-webhook created\n",
      "mutatingwebhookconfiguration.admissionregistration.k8s.io/cert-manager-webhook created\n",
      "validatingwebhookconfiguration.admissionregistration.k8s.io/cert-manager-webhook created\n"
     ]
    }
   ],
   "source": [
    "# cert-manager\n",
    "!kubectl apply -f https://github.com/jetstack/cert-manager/releases/latest/download/cert-manager.yaml"
   ]
  },
  {
   "cell_type": "code",
   "execution_count": 2,
   "metadata": {},
   "outputs": [
    {
     "name": "stdout",
     "output_type": "stream",
     "text": [
      "namespace/opentelemetry-operator-system created\n",
      "customresourcedefinition.apiextensions.k8s.io/instrumentations.opentelemetry.io created\n",
      "customresourcedefinition.apiextensions.k8s.io/opampbridges.opentelemetry.io created\n",
      "customresourcedefinition.apiextensions.k8s.io/opentelemetrycollectors.opentelemetry.io created\n",
      "serviceaccount/opentelemetry-operator-controller-manager created\n",
      "role.rbac.authorization.k8s.io/opentelemetry-operator-leader-election-role created\n",
      "clusterrole.rbac.authorization.k8s.io/opentelemetry-operator-manager-role created\n",
      "clusterrole.rbac.authorization.k8s.io/opentelemetry-operator-metrics-reader created\n",
      "clusterrole.rbac.authorization.k8s.io/opentelemetry-operator-proxy-role created\n",
      "rolebinding.rbac.authorization.k8s.io/opentelemetry-operator-leader-election-rolebinding created\n",
      "clusterrolebinding.rbac.authorization.k8s.io/opentelemetry-operator-manager-rolebinding created\n",
      "clusterrolebinding.rbac.authorization.k8s.io/opentelemetry-operator-proxy-rolebinding created\n",
      "service/opentelemetry-operator-controller-manager-metrics-service created\n",
      "service/opentelemetry-operator-webhook-service created\n",
      "deployment.apps/opentelemetry-operator-controller-manager created\n",
      "mutatingwebhookconfiguration.admissionregistration.k8s.io/opentelemetry-operator-mutating-webhook-configuration created\n",
      "validatingwebhookconfiguration.admissionregistration.k8s.io/opentelemetry-operator-validating-webhook-configuration created\n",
      "Error from server (InternalError): error when creating \"https://github.com/open-telemetry/opentelemetry-operator/releases/latest/download/opentelemetry-operator.yaml\": Internal error occurred: failed calling webhook \"webhook.cert-manager.io\": failed to call webhook: Post \"https://cert-manager-webhook.cert-manager.svc:443/validate?timeout=30s\": no endpoints available for service \"cert-manager-webhook\"\n",
      "Error from server (InternalError): error when creating \"https://github.com/open-telemetry/opentelemetry-operator/releases/latest/download/opentelemetry-operator.yaml\": Internal error occurred: failed calling webhook \"webhook.cert-manager.io\": failed to call webhook: Post \"https://cert-manager-webhook.cert-manager.svc:443/validate?timeout=30s\": no endpoints available for service \"cert-manager-webhook\"\n"
     ]
    }
   ],
   "source": [
    "# open telemetry operator\n",
    "!kubectl apply -f https://github.com/open-telemetry/opentelemetry-operator/releases/latest/download/opentelemetry-operator.yaml"
   ]
  },
  {
   "cell_type": "markdown",
   "metadata": {},
   "source": [
    "Create opentelemetry operator:"
   ]
  },
  {
   "cell_type": "code",
   "execution_count": 3,
   "metadata": {
    "vscode": {
     "languageId": "shellscript"
    }
   },
   "outputs": [
    {
     "name": "stdout",
     "output_type": "stream",
     "text": [
      "configmap/otel-collector-conf created\n",
      "service/otel-collector created\n",
      "deployment.apps/otel-collector created\n"
     ]
    }
   ],
   "source": [
    "%%bash\n",
    "kubectl apply -f ./opentelemetry.yaml\n"
   ]
  },
  {
   "cell_type": "markdown",
   "metadata": {},
   "source": [
    "Create jaeger namespace:"
   ]
  },
  {
   "cell_type": "code",
   "execution_count": 4,
   "metadata": {},
   "outputs": [
    {
     "name": "stdout",
     "output_type": "stream",
     "text": [
      "namespace/observability created\n",
      "customresourcedefinition.apiextensions.k8s.io/jaegers.jaegertracing.io created\n",
      "serviceaccount/jaeger-operator created\n",
      "role.rbac.authorization.k8s.io/leader-election-role created\n",
      "role.rbac.authorization.k8s.io/prometheus created\n",
      "clusterrole.rbac.authorization.k8s.io/jaeger-operator-metrics-reader created\n",
      "clusterrole.rbac.authorization.k8s.io/manager-role created\n",
      "clusterrole.rbac.authorization.k8s.io/proxy-role created\n",
      "rolebinding.rbac.authorization.k8s.io/leader-election-rolebinding created\n",
      "rolebinding.rbac.authorization.k8s.io/prometheus created\n",
      "clusterrolebinding.rbac.authorization.k8s.io/jaeger-operator-proxy-rolebinding created\n",
      "clusterrolebinding.rbac.authorization.k8s.io/manager-rolebinding created\n",
      "service/jaeger-operator-metrics created\n",
      "service/jaeger-operator-webhook-service created\n",
      "deployment.apps/jaeger-operator created\n",
      "certificate.cert-manager.io/jaeger-operator-serving-cert created\n",
      "issuer.cert-manager.io/jaeger-operator-selfsigned-issuer created\n",
      "mutatingwebhookconfiguration.admissionregistration.k8s.io/jaeger-operator-mutating-webhook-configuration created\n",
      "validatingwebhookconfiguration.admissionregistration.k8s.io/jaeger-operator-validating-webhook-configuration created\n"
     ]
    }
   ],
   "source": [
    "%%bash\n",
    "kubectl create namespace observability\n",
    "kubectl create -n observability -f https://github.com/jaegertracing/jaeger-operator/releases/download/v1.39.0/jaeger-operator.yaml"
   ]
  },
  {
   "cell_type": "markdown",
   "metadata": {},
   "source": [
    "Create jaeger instance:"
   ]
  },
  {
   "cell_type": "code",
   "execution_count": 5,
   "metadata": {},
   "outputs": [
    {
     "name": "stdout",
     "output_type": "stream",
     "text": [
      "jaeger.jaegertracing.io/jaeger created\n"
     ]
    }
   ],
   "source": [
    "%%bash\n",
    "kubectl apply -n observability -f - <<EOF\n",
    "apiVersion: jaegertracing.io/v1\n",
    "kind: Jaeger\n",
    "metadata:\n",
    "  name: jaeger\n",
    "EOF"
   ]
  },
  {
   "cell_type": "markdown",
   "metadata": {
    "vscode": {
     "languageId": "shellscript"
    }
   },
   "source": [
    "Port forward jaeger service(run in external terminal):"
   ]
  },
  {
   "cell_type": "code",
   "execution_count": null,
   "metadata": {},
   "outputs": [],
   "source": [
    "%%bash\n",
    "kubectl port-forward service/jaeger-query -n observability 31931:16686 &"
   ]
  },
  {
   "cell_type": "markdown",
   "metadata": {},
   "source": [
    "Install fission"
   ]
  },
  {
   "cell_type": "code",
   "execution_count": 6,
   "metadata": {},
   "outputs": [
    {
     "name": "stdout",
     "output_type": "stream",
     "text": [
      "customresourcedefinition.apiextensions.k8s.io/canaryconfigs.fission.io created\n",
      "customresourcedefinition.apiextensions.k8s.io/environments.fission.io created\n",
      "customresourcedefinition.apiextensions.k8s.io/functions.fission.io created\n",
      "customresourcedefinition.apiextensions.k8s.io/httptriggers.fission.io created\n",
      "customresourcedefinition.apiextensions.k8s.io/kuberneteswatchtriggers.fission.io created\n",
      "customresourcedefinition.apiextensions.k8s.io/messagequeuetriggers.fission.io created\n",
      "customresourcedefinition.apiextensions.k8s.io/packages.fission.io created\n",
      "customresourcedefinition.apiextensions.k8s.io/timetriggers.fission.io created\n",
      "namespace/fission created\n"
     ]
    },
    {
     "name": "stderr",
     "output_type": "stream",
     "text": [
      "W0620 11:31:11.536318   28688 warnings.go:70] metadata.name: this is used in Pod names and hostnames, which can result in surprising behavior; a DNS label is recommended: [must not contain dots]\n"
     ]
    },
    {
     "name": "stdout",
     "output_type": "stream",
     "text": [
      "NAME: fission\n",
      "LAST DEPLOYED: Thu Jun 20 11:31:10 2024\n",
      "NAMESPACE: fission\n",
      "STATUS: deployed\n",
      "REVISION: 1\n",
      "TEST SUITE: None\n",
      "NOTES:\n",
      "1. Install the client CLI.\n",
      "\n",
      "Mac:\n",
      "  $ curl -Lo fission https://github.com/fission/fission/releases/download/v1.20.2/fission-v1.20.2-darwin-amd64 && chmod +x fission && sudo mv fission /usr/local/bin/\n",
      "\n",
      "Linux:\n",
      "  $ curl -Lo fission https://github.com/fission/fission/releases/download/v1.20.2/fission-v1.20.2-linux-amd64 && chmod +x fission && sudo mv fission /usr/local/bin/\n",
      "\n",
      "Windows:\n",
      "  For Windows, you can use the linux binary on WSL. Or you can download this windows executable: https://github.com/fission/fission/releases/download/v1.20.2/fission-v1.20.2-windows-amd64.exe\n",
      "\n",
      "2. You're ready to use Fission!\n",
      "  You can create fission resources in the namespace \"default\"\n",
      "\n",
      "  # Create an environment\n",
      "  $ fission env create --name nodejs --image fission/node-env --namespace default\n",
      "\n",
      "  # Get a hello world\n",
      "  $ curl https://raw.githubusercontent.com/fission/examples/master/nodejs/hello.js > hello.js\n",
      "\n",
      "  # Register this function with Fission\n",
      "  $ fission function create --name hello --env nodejs --code hello.js --namespace default\n",
      "\n",
      "  # Run this function\n",
      "  $ fission function test --name hello --namespace default\n",
      "  Hello, world!\n"
     ]
    }
   ],
   "source": [
    "%%bash\n",
    "export FISSION_NAMESPACE=fission\n",
    "kubectl create -k \"github.com/fission/fission/crds/v1?ref=v1.20.1\"\n",
    "kubectl create namespace $FISSION_NAMESPACE\n",
    "helm install --namespace $FISSION_NAMESPACE \\\n",
    "  fission fission-charts/fission-all \\\n",
    "  --set openTelemetry.otlpCollectorEndpoint=\"otel-collector.opentelemetry-operator-system.svc:4317\" \\\n",
    "  --set openTelemetry.otlpInsecure=true \\\n",
    "  --set openTelemetry.tracesSampler=\"parentbased_traceidratio\" \\\n",
    "  --set openTelemetry.tracesSamplingRate=\"1\""
   ]
  },
  {
   "cell_type": "markdown",
   "metadata": {},
   "source": [
    "Create grafana namespace:"
   ]
  },
  {
   "cell_type": "code",
   "execution_count": 7,
   "metadata": {
    "vscode": {
     "languageId": "shellscript"
    }
   },
   "outputs": [
    {
     "name": "stdout",
     "output_type": "stream",
     "text": [
      "namespace/monitoring created\n"
     ]
    }
   ],
   "source": [
    "%%bash\n",
    "export METRICS_NAMESPACE=monitoring\n",
    "kubectl create namespace $METRICS_NAMESPACE"
   ]
  },
  {
   "cell_type": "markdown",
   "metadata": {},
   "source": [
    "Install grafana:"
   ]
  },
  {
   "cell_type": "code",
   "execution_count": 8,
   "metadata": {},
   "outputs": [
    {
     "name": "stdout",
     "output_type": "stream",
     "text": [
      "\"prometheus-community\" already exists with the same configuration, skipping\n",
      "Hang tight while we grab the latest from your chart repositories...\n",
      "...Successfully got an update from the \"prometheus-community\" chart repository\n",
      "...Successfully got an update from the \"fission-charts\" chart repository\n",
      "...Successfully got an update from the \"budibase\" chart repository\n",
      "...Unable to get an update from the \"bitnami\" chart repository (https://charts.bitnami.com/bitnami):\n",
      "\tGet \"https://charts.bitnami.com/bitnami/index.yaml\": EOF\n",
      "Update Complete. ⎈Happy Helming!⎈\n",
      "NAME: prometheus\n",
      "LAST DEPLOYED: Thu Jun 20 11:31:33 2024\n",
      "NAMESPACE: monitoring\n",
      "STATUS: deployed\n",
      "REVISION: 1\n",
      "NOTES:\n",
      "kube-prometheus-stack has been installed. Check its status by running:\n",
      "  kubectl --namespace monitoring get pods -l \"release=prometheus\"\n",
      "\n",
      "Visit https://github.com/prometheus-operator/kube-prometheus for instructions on how to create & configure Alertmanager and Prometheus instances using the Operator.\n"
     ]
    }
   ],
   "source": [
    "%%bash\n",
    "helm repo add prometheus-community https://prometheus-community.github.io/helm-charts\n",
    "helm repo update\n",
    "helm install prometheus prometheus-community/kube-prometheus-stack -n monitoring"
   ]
  },
  {
   "cell_type": "markdown",
   "metadata": {},
   "source": [
    "Upgrade fission using helm:"
   ]
  },
  {
   "cell_type": "code",
   "execution_count": 9,
   "metadata": {},
   "outputs": [
    {
     "name": "stdout",
     "output_type": "stream",
     "text": [
      "W0620 11:33:10.410498   28708 warnings.go:70] metadata.name: this is used in Pod names and hostnames, which can result in surprising behavior; a DNS label is recommended: [must not contain dots]\n",
      "W0620 11:33:14.188388   28708 warnings.go:70] metadata.name: this is used in Pod names and hostnames, which can result in surprising behavior; a DNS label is recommended: [must not contain dots]\n",
      "Release \"fission\" has been upgraded. Happy Helming!\n",
      "NAME: fission\n",
      "LAST DEPLOYED: Thu Jun 20 11:33:08 2024\n",
      "NAMESPACE: fission\n",
      "STATUS: deployed\n",
      "REVISION: 2\n",
      "TEST SUITE: None\n",
      "NOTES:\n",
      "1. Install the client CLI.\n",
      "\n",
      "Mac:\n",
      "  $ curl -Lo fission https://github.com/fission/fission/releases/download/v1.20.2/fission-v1.20.2-darwin-amd64 && chmod +x fission && sudo mv fission /usr/local/bin/\n",
      "\n",
      "Linux:\n",
      "  $ curl -Lo fission https://github.com/fission/fission/releases/download/v1.20.2/fission-v1.20.2-linux-amd64 && chmod +x fission && sudo mv fission /usr/local/bin/\n",
      "\n",
      "Windows:\n",
      "  For Windows, you can use the linux binary on WSL. Or you can download this windows executable: https://github.com/fission/fission/releases/download/v1.20.2/fission-v1.20.2-windows-amd64.exe\n",
      "\n",
      "2. You're ready to use Fission!\n",
      "  You can create fission resources in the namespace \"default\"\n",
      "\n",
      "  # Create an environment\n",
      "  $ fission env create --name nodejs --image fission/node-env --namespace default\n",
      "\n",
      "  # Get a hello world\n",
      "  $ curl https://raw.githubusercontent.com/fission/examples/master/nodejs/hello.js > hello.js\n",
      "\n",
      "  # Register this function with Fission\n",
      "  $ fission function create --name hello --env nodejs --code hello.js --namespace default\n",
      "\n",
      "  # Run this function\n",
      "  $ fission function test --name hello --namespace default\n",
      "  Hello, world!\n"
     ]
    }
   ],
   "source": [
    "!helm upgrade fission fission-charts/fission-all --namespace fission -f values.yaml"
   ]
  },
  {
   "cell_type": "markdown",
   "metadata": {},
   "source": [
    "Expose grafana service(run in external terminal):"
   ]
  },
  {
   "cell_type": "code",
   "execution_count": null,
   "metadata": {},
   "outputs": [],
   "source": [
    "%%bash\n",
    "kubectl --namespace monitoring port-forward svc/prometheus-grafana 39131:80 &"
   ]
  },
  {
   "cell_type": "markdown",
   "metadata": {},
   "source": [
    "Get grafana password:"
   ]
  },
  {
   "cell_type": "code",
   "execution_count": 10,
   "metadata": {},
   "outputs": [
    {
     "name": "stdout",
     "output_type": "stream",
     "text": [
      "prom-operator\n"
     ]
    }
   ],
   "source": [
    "%%bash\n",
    "kubectl get secret --namespace monitoring prometheus-grafana -o jsonpath=\"{.data.admin-password}\" | base64 --decode ; echo"
   ]
  }
 ],
 "metadata": {
  "kernelspec": {
   "display_name": "Python 3",
   "language": "python",
   "name": "python3"
  },
  "language_info": {
   "codemirror_mode": {
    "name": "ipython",
    "version": 3
   },
   "file_extension": ".py",
   "mimetype": "text/x-python",
   "name": "python",
   "nbconvert_exporter": "python",
   "pygments_lexer": "ipython3",
   "version": "3.9.6"
  }
 },
 "nbformat": 4,
 "nbformat_minor": 2
}
